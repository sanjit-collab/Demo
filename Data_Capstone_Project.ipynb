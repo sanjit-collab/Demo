{
  "nbformat": 4,
  "nbformat_minor": 0,
  "metadata": {
    "colab": {
      "provenance": [],
      "authorship_tag": "ABX9TyOzNAPGcYom1Eou3TX3uudG",
      "include_colab_link": true
    },
    "kernelspec": {
      "name": "python3",
      "display_name": "Python 3"
    },
    "language_info": {
      "name": "python"
    }
  },
  "cells": [
    {
      "cell_type": "markdown",
      "metadata": {
        "id": "view-in-github",
        "colab_type": "text"
      },
      "source": [
        "<a href=\"https://colab.research.google.com/github/sanjit-collab/Demo/blob/main/Data_Capstone_Project.ipynb\" target=\"_parent\"><img src=\"https://colab.research.google.com/assets/colab-badge.svg\" alt=\"Open In Colab\"/></a>"
      ]
    },
    {
      "cell_type": "code",
      "execution_count": 1,
      "metadata": {
        "colab": {
          "base_uri": "https://localhost:8080/"
        },
        "id": "1_zhu5TJ4s_i",
        "outputId": "76120840-5351-4fe3-f4ee-7ddab53a22b4"
      },
      "outputs": [
        {
          "output_type": "stream",
          "name": "stdout",
          "text": [
            "--2025-08-22 07:11:30--  https://raw.githubusercontent.com/AkarshVyas/Pandas-Youtube/main/Countries.csv\n",
            "Resolving raw.githubusercontent.com (raw.githubusercontent.com)... 185.199.108.133, 185.199.109.133, 185.199.110.133, ...\n",
            "Connecting to raw.githubusercontent.com (raw.githubusercontent.com)|185.199.108.133|:443... connected.\n",
            "HTTP request sent, awaiting response... 200 OK\n",
            "Length: 95410 (93K) [text/plain]\n",
            "Saving to: ‘Countries.csv’\n",
            "\n",
            "\rCountries.csv         0%[                    ]       0  --.-KB/s               \rCountries.csv       100%[===================>]  93.17K  --.-KB/s    in 0.02s   \n",
            "\n",
            "2025-08-22 07:11:30 (3.95 MB/s) - ‘Countries.csv’ saved [95410/95410]\n",
            "\n"
          ]
        }
      ],
      "source": [
        "!wget https://raw.githubusercontent.com/AkarshVyas/Pandas-Youtube/main/Countries.csv"
      ]
    },
    {
      "cell_type": "code",
      "source": [
        "import pandas as pd\n",
        "import numpy as np"
      ],
      "metadata": {
        "id": "1eLanXiU5Ql9"
      },
      "execution_count": 2,
      "outputs": []
    },
    {
      "cell_type": "code",
      "source": [
        "df = pd.read_csv(\"Countries.csv\")\n",
        "df.head(1)"
      ],
      "metadata": {
        "colab": {
          "base_uri": "https://localhost:8080/",
          "height": 147
        },
        "id": "IIg-HYCC48nt",
        "outputId": "35e50fba-d9ff-4943-c612-6c60f17a50df"
      },
      "execution_count": 3,
      "outputs": [
        {
          "output_type": "execute_result",
          "data": {
            "text/plain": [
              "       country                  country_long        currency capital_city  \\\n",
              "0  Afghanistan  Islamic State of Afghanistan  Afghan afghani        Kabul   \n",
              "\n",
              "          region continent demonym  latitude  longitude  agricultural_land  \\\n",
              "0  Southern Asia      Asia  Afghan      33.0       65.0           383560.0   \n",
              "\n",
              "   ...  population  women_parliament_seats_pct  rural_population  \\\n",
              "0  ...    41128771                     27.0161          30181937   \n",
              "\n",
              "   urban_population  press  democracy_score  democracy_type  median_age  \\\n",
              "0          10946834   2.14             2.97   Authoritarian        12.9   \n",
              "\n",
              "   political_leader      title  \n",
              "0      Ashraf Ghani  President  \n",
              "\n",
              "[1 rows x 64 columns]"
            ],
            "text/html": [
              "\n",
              "  <div id=\"df-ffc064e7-d670-4824-9d0b-2b8d11d3b04d\" class=\"colab-df-container\">\n",
              "    <div>\n",
              "<style scoped>\n",
              "    .dataframe tbody tr th:only-of-type {\n",
              "        vertical-align: middle;\n",
              "    }\n",
              "\n",
              "    .dataframe tbody tr th {\n",
              "        vertical-align: top;\n",
              "    }\n",
              "\n",
              "    .dataframe thead th {\n",
              "        text-align: right;\n",
              "    }\n",
              "</style>\n",
              "<table border=\"1\" class=\"dataframe\">\n",
              "  <thead>\n",
              "    <tr style=\"text-align: right;\">\n",
              "      <th></th>\n",
              "      <th>country</th>\n",
              "      <th>country_long</th>\n",
              "      <th>currency</th>\n",
              "      <th>capital_city</th>\n",
              "      <th>region</th>\n",
              "      <th>continent</th>\n",
              "      <th>demonym</th>\n",
              "      <th>latitude</th>\n",
              "      <th>longitude</th>\n",
              "      <th>agricultural_land</th>\n",
              "      <th>...</th>\n",
              "      <th>population</th>\n",
              "      <th>women_parliament_seats_pct</th>\n",
              "      <th>rural_population</th>\n",
              "      <th>urban_population</th>\n",
              "      <th>press</th>\n",
              "      <th>democracy_score</th>\n",
              "      <th>democracy_type</th>\n",
              "      <th>median_age</th>\n",
              "      <th>political_leader</th>\n",
              "      <th>title</th>\n",
              "    </tr>\n",
              "  </thead>\n",
              "  <tbody>\n",
              "    <tr>\n",
              "      <th>0</th>\n",
              "      <td>Afghanistan</td>\n",
              "      <td>Islamic State of Afghanistan</td>\n",
              "      <td>Afghan afghani</td>\n",
              "      <td>Kabul</td>\n",
              "      <td>Southern Asia</td>\n",
              "      <td>Asia</td>\n",
              "      <td>Afghan</td>\n",
              "      <td>33.0</td>\n",
              "      <td>65.0</td>\n",
              "      <td>383560.0</td>\n",
              "      <td>...</td>\n",
              "      <td>41128771</td>\n",
              "      <td>27.0161</td>\n",
              "      <td>30181937</td>\n",
              "      <td>10946834</td>\n",
              "      <td>2.14</td>\n",
              "      <td>2.97</td>\n",
              "      <td>Authoritarian</td>\n",
              "      <td>12.9</td>\n",
              "      <td>Ashraf Ghani</td>\n",
              "      <td>President</td>\n",
              "    </tr>\n",
              "  </tbody>\n",
              "</table>\n",
              "<p>1 rows × 64 columns</p>\n",
              "</div>\n",
              "    <div class=\"colab-df-buttons\">\n",
              "\n",
              "  <div class=\"colab-df-container\">\n",
              "    <button class=\"colab-df-convert\" onclick=\"convertToInteractive('df-ffc064e7-d670-4824-9d0b-2b8d11d3b04d')\"\n",
              "            title=\"Convert this dataframe to an interactive table.\"\n",
              "            style=\"display:none;\">\n",
              "\n",
              "  <svg xmlns=\"http://www.w3.org/2000/svg\" height=\"24px\" viewBox=\"0 -960 960 960\">\n",
              "    <path d=\"M120-120v-720h720v720H120Zm60-500h600v-160H180v160Zm220 220h160v-160H400v160Zm0 220h160v-160H400v160ZM180-400h160v-160H180v160Zm440 0h160v-160H620v160ZM180-180h160v-160H180v160Zm440 0h160v-160H620v160Z\"/>\n",
              "  </svg>\n",
              "    </button>\n",
              "\n",
              "  <style>\n",
              "    .colab-df-container {\n",
              "      display:flex;\n",
              "      gap: 12px;\n",
              "    }\n",
              "\n",
              "    .colab-df-convert {\n",
              "      background-color: #E8F0FE;\n",
              "      border: none;\n",
              "      border-radius: 50%;\n",
              "      cursor: pointer;\n",
              "      display: none;\n",
              "      fill: #1967D2;\n",
              "      height: 32px;\n",
              "      padding: 0 0 0 0;\n",
              "      width: 32px;\n",
              "    }\n",
              "\n",
              "    .colab-df-convert:hover {\n",
              "      background-color: #E2EBFA;\n",
              "      box-shadow: 0px 1px 2px rgba(60, 64, 67, 0.3), 0px 1px 3px 1px rgba(60, 64, 67, 0.15);\n",
              "      fill: #174EA6;\n",
              "    }\n",
              "\n",
              "    .colab-df-buttons div {\n",
              "      margin-bottom: 4px;\n",
              "    }\n",
              "\n",
              "    [theme=dark] .colab-df-convert {\n",
              "      background-color: #3B4455;\n",
              "      fill: #D2E3FC;\n",
              "    }\n",
              "\n",
              "    [theme=dark] .colab-df-convert:hover {\n",
              "      background-color: #434B5C;\n",
              "      box-shadow: 0px 1px 3px 1px rgba(0, 0, 0, 0.15);\n",
              "      filter: drop-shadow(0px 1px 2px rgba(0, 0, 0, 0.3));\n",
              "      fill: #FFFFFF;\n",
              "    }\n",
              "  </style>\n",
              "\n",
              "    <script>\n",
              "      const buttonEl =\n",
              "        document.querySelector('#df-ffc064e7-d670-4824-9d0b-2b8d11d3b04d button.colab-df-convert');\n",
              "      buttonEl.style.display =\n",
              "        google.colab.kernel.accessAllowed ? 'block' : 'none';\n",
              "\n",
              "      async function convertToInteractive(key) {\n",
              "        const element = document.querySelector('#df-ffc064e7-d670-4824-9d0b-2b8d11d3b04d');\n",
              "        const dataTable =\n",
              "          await google.colab.kernel.invokeFunction('convertToInteractive',\n",
              "                                                    [key], {});\n",
              "        if (!dataTable) return;\n",
              "\n",
              "        const docLinkHtml = 'Like what you see? Visit the ' +\n",
              "          '<a target=\"_blank\" href=https://colab.research.google.com/notebooks/data_table.ipynb>data table notebook</a>'\n",
              "          + ' to learn more about interactive tables.';\n",
              "        element.innerHTML = '';\n",
              "        dataTable['output_type'] = 'display_data';\n",
              "        await google.colab.output.renderOutput(dataTable, element);\n",
              "        const docLink = document.createElement('div');\n",
              "        docLink.innerHTML = docLinkHtml;\n",
              "        element.appendChild(docLink);\n",
              "      }\n",
              "    </script>\n",
              "  </div>\n",
              "\n",
              "\n",
              "    </div>\n",
              "  </div>\n"
            ],
            "application/vnd.google.colaboratory.intrinsic+json": {
              "type": "dataframe",
              "variable_name": "df"
            }
          },
          "metadata": {},
          "execution_count": 3
        }
      ]
    },
    {
      "cell_type": "code",
      "source": [
        "df.columns"
      ],
      "metadata": {
        "colab": {
          "base_uri": "https://localhost:8080/"
        },
        "id": "Jlzf7Wq47aBb",
        "outputId": "2975c780-87e9-4fa7-c78e-0feb46267e67"
      },
      "execution_count": 4,
      "outputs": [
        {
          "output_type": "execute_result",
          "data": {
            "text/plain": [
              "Index(['country', 'country_long', 'currency', 'capital_city', 'region',\n",
              "       'continent', 'demonym', 'latitude', 'longitude', 'agricultural_land',\n",
              "       'forest_area', 'land_area', 'rural_land', 'urban_land',\n",
              "       'central_government_debt_pct_gdp', 'expense_pct_gdp', 'gdp',\n",
              "       'inflation', 'self_employed_pct', 'tax_revenue_pct_gdp',\n",
              "       'unemployment_pct', 'vulnerable_employment_pct',\n",
              "       'electricity_access_pct', 'alternative_nuclear_energy_pct',\n",
              "       'electricty_production_coal_pct',\n",
              "       'electricty_production_hydroelectric_pct',\n",
              "       'electricty_production_gas_pct', 'electricty_production_nuclear_pct',\n",
              "       'electricty_production_oil_pct', 'electricty_production_renewable_pct',\n",
              "       'energy_imports_pct', 'fossil_energy_consumption_pct',\n",
              "       'renewable_energy_consumption_pct', 'co2_emissions',\n",
              "       'methane_emissions', 'nitrous_oxide_emissions',\n",
              "       'greenhouse_other_emissions', 'urban_population_under_5m',\n",
              "       'health_expenditure_pct_gdp', 'health_expenditure_capita',\n",
              "       'hospital_beds', 'hiv_incidence', 'suicide_rate', 'armed_forces',\n",
              "       'internally_displaced_persons', 'military_expenditure_pct_gdp',\n",
              "       'birth_rate', 'death_rate', 'fertility_rate', 'internet_pct',\n",
              "       'life_expectancy', 'net_migration', 'population_female',\n",
              "       'population_male', 'population', 'women_parliament_seats_pct',\n",
              "       'rural_population', 'urban_population', 'press', 'democracy_score',\n",
              "       'democracy_type', 'median_age', 'political_leader', 'title'],\n",
              "      dtype='object')"
            ]
          },
          "metadata": {},
          "execution_count": 4
        }
      ]
    },
    {
      "cell_type": "code",
      "source": [
        "df.isnull().sum()"
      ],
      "metadata": {
        "colab": {
          "base_uri": "https://localhost:8080/",
          "height": 458
        },
        "id": "YFQcxtEY7dl8",
        "outputId": "e169d6e5-3a9d-4275-cc36-09b0fc517604"
      },
      "execution_count": 5,
      "outputs": [
        {
          "output_type": "execute_result",
          "data": {
            "text/plain": [
              "country             0\n",
              "country_long        0\n",
              "currency            0\n",
              "capital_city        0\n",
              "region              0\n",
              "                   ..\n",
              "democracy_score     0\n",
              "democracy_type      0\n",
              "median_age          0\n",
              "political_leader    7\n",
              "title               7\n",
              "Length: 64, dtype: int64"
            ],
            "text/html": [
              "<div>\n",
              "<style scoped>\n",
              "    .dataframe tbody tr th:only-of-type {\n",
              "        vertical-align: middle;\n",
              "    }\n",
              "\n",
              "    .dataframe tbody tr th {\n",
              "        vertical-align: top;\n",
              "    }\n",
              "\n",
              "    .dataframe thead th {\n",
              "        text-align: right;\n",
              "    }\n",
              "</style>\n",
              "<table border=\"1\" class=\"dataframe\">\n",
              "  <thead>\n",
              "    <tr style=\"text-align: right;\">\n",
              "      <th></th>\n",
              "      <th>0</th>\n",
              "    </tr>\n",
              "  </thead>\n",
              "  <tbody>\n",
              "    <tr>\n",
              "      <th>country</th>\n",
              "      <td>0</td>\n",
              "    </tr>\n",
              "    <tr>\n",
              "      <th>country_long</th>\n",
              "      <td>0</td>\n",
              "    </tr>\n",
              "    <tr>\n",
              "      <th>currency</th>\n",
              "      <td>0</td>\n",
              "    </tr>\n",
              "    <tr>\n",
              "      <th>capital_city</th>\n",
              "      <td>0</td>\n",
              "    </tr>\n",
              "    <tr>\n",
              "      <th>region</th>\n",
              "      <td>0</td>\n",
              "    </tr>\n",
              "    <tr>\n",
              "      <th>...</th>\n",
              "      <td>...</td>\n",
              "    </tr>\n",
              "    <tr>\n",
              "      <th>democracy_score</th>\n",
              "      <td>0</td>\n",
              "    </tr>\n",
              "    <tr>\n",
              "      <th>democracy_type</th>\n",
              "      <td>0</td>\n",
              "    </tr>\n",
              "    <tr>\n",
              "      <th>median_age</th>\n",
              "      <td>0</td>\n",
              "    </tr>\n",
              "    <tr>\n",
              "      <th>political_leader</th>\n",
              "      <td>7</td>\n",
              "    </tr>\n",
              "    <tr>\n",
              "      <th>title</th>\n",
              "      <td>7</td>\n",
              "    </tr>\n",
              "  </tbody>\n",
              "</table>\n",
              "<p>64 rows × 1 columns</p>\n",
              "</div><br><label><b>dtype:</b> int64</label>"
            ]
          },
          "metadata": {},
          "execution_count": 5
        }
      ]
    },
    {
      "cell_type": "code",
      "source": [
        "df.info()"
      ],
      "metadata": {
        "colab": {
          "base_uri": "https://localhost:8080/"
        },
        "id": "XN6OHK3a7oO5",
        "outputId": "2a57a570-8ad8-4a35-8804-a240fbb88a26"
      },
      "execution_count": 6,
      "outputs": [
        {
          "output_type": "stream",
          "name": "stdout",
          "text": [
            "<class 'pandas.core.frame.DataFrame'>\n",
            "RangeIndex: 194 entries, 0 to 193\n",
            "Data columns (total 64 columns):\n",
            " #   Column                                   Non-Null Count  Dtype  \n",
            "---  ------                                   --------------  -----  \n",
            " 0   country                                  194 non-null    object \n",
            " 1   country_long                             194 non-null    object \n",
            " 2   currency                                 194 non-null    object \n",
            " 3   capital_city                             194 non-null    object \n",
            " 4   region                                   194 non-null    object \n",
            " 5   continent                                194 non-null    object \n",
            " 6   demonym                                  194 non-null    object \n",
            " 7   latitude                                 194 non-null    float64\n",
            " 8   longitude                                194 non-null    float64\n",
            " 9   agricultural_land                        193 non-null    float64\n",
            " 10  forest_area                              194 non-null    float64\n",
            " 11  land_area                                194 non-null    float64\n",
            " 12  rural_land                               194 non-null    float64\n",
            " 13  urban_land                               194 non-null    float64\n",
            " 14  central_government_debt_pct_gdp          120 non-null    float64\n",
            " 15  expense_pct_gdp                          156 non-null    float64\n",
            " 16  gdp                                      193 non-null    float64\n",
            " 17  inflation                                184 non-null    float64\n",
            " 18  self_employed_pct                        179 non-null    float64\n",
            " 19  tax_revenue_pct_gdp                      159 non-null    float64\n",
            " 20  unemployment_pct                         179 non-null    float64\n",
            " 21  vulnerable_employment_pct                179 non-null    float64\n",
            " 22  electricity_access_pct                   194 non-null    float64\n",
            " 23  alternative_nuclear_energy_pct           138 non-null    float64\n",
            " 24  electricty_production_coal_pct           138 non-null    float64\n",
            " 25  electricty_production_hydroelectric_pct  138 non-null    float64\n",
            " 26  electricty_production_gas_pct            138 non-null    float64\n",
            " 27  electricty_production_nuclear_pct        138 non-null    float64\n",
            " 28  electricty_production_oil_pct            138 non-null    float64\n",
            " 29  electricty_production_renewable_pct      138 non-null    float64\n",
            " 30  energy_imports_pct                       138 non-null    float64\n",
            " 31  fossil_energy_consumption_pct            168 non-null    float64\n",
            " 32  renewable_energy_consumption_pct         192 non-null    float64\n",
            " 33  co2_emissions                            191 non-null    float64\n",
            " 34  methane_emissions                        191 non-null    float64\n",
            " 35  nitrous_oxide_emissions                  191 non-null    float64\n",
            " 36  greenhouse_other_emissions               184 non-null    float64\n",
            " 37  urban_population_under_5m                194 non-null    float64\n",
            " 38  health_expenditure_pct_gdp               190 non-null    float64\n",
            " 39  health_expenditure_capita                190 non-null    float64\n",
            " 40  hospital_beds                            192 non-null    float64\n",
            " 41  hiv_incidence                            133 non-null    float64\n",
            " 42  suicide_rate                             183 non-null    float64\n",
            " 43  armed_forces                             174 non-null    float64\n",
            " 44  internally_displaced_persons             73 non-null     float64\n",
            " 45  military_expenditure_pct_gdp             163 non-null    float64\n",
            " 46  birth_rate                               194 non-null    float64\n",
            " 47  death_rate                               194 non-null    float64\n",
            " 48  fertility_rate                           193 non-null    float64\n",
            " 49  internet_pct                             194 non-null    float64\n",
            " 50  life_expectancy                          191 non-null    float64\n",
            " 51  net_migration                            194 non-null    int64  \n",
            " 52  population_female                        194 non-null    int64  \n",
            " 53  population_male                          194 non-null    int64  \n",
            " 54  population                               194 non-null    int64  \n",
            " 55  women_parliament_seats_pct               193 non-null    float64\n",
            " 56  rural_population                         194 non-null    int64  \n",
            " 57  urban_population                         194 non-null    int64  \n",
            " 58  press                                    194 non-null    float64\n",
            " 59  democracy_score                          194 non-null    float64\n",
            " 60  democracy_type                           194 non-null    object \n",
            " 61  median_age                               194 non-null    float64\n",
            " 62  political_leader                         187 non-null    object \n",
            " 63  title                                    187 non-null    object \n",
            "dtypes: float64(48), int64(6), object(10)\n",
            "memory usage: 97.1+ KB\n"
          ]
        }
      ]
    },
    {
      "cell_type": "code",
      "source": [
        "#which country has the highest population\n",
        "df[df[\"population\"] == df[\"population\"].max()]['country']"
      ],
      "metadata": {
        "colab": {
          "base_uri": "https://localhost:8080/",
          "height": 115
        },
        "id": "5YSDcG6R5Poo",
        "outputId": "0078aa18-ccf3-4a4e-c940-8eb0ca873ce3"
      },
      "execution_count": 7,
      "outputs": [
        {
          "output_type": "execute_result",
          "data": {
            "text/plain": [
              "75    India\n",
              "Name: country, dtype: object"
            ],
            "text/html": [
              "<div>\n",
              "<style scoped>\n",
              "    .dataframe tbody tr th:only-of-type {\n",
              "        vertical-align: middle;\n",
              "    }\n",
              "\n",
              "    .dataframe tbody tr th {\n",
              "        vertical-align: top;\n",
              "    }\n",
              "\n",
              "    .dataframe thead th {\n",
              "        text-align: right;\n",
              "    }\n",
              "</style>\n",
              "<table border=\"1\" class=\"dataframe\">\n",
              "  <thead>\n",
              "    <tr style=\"text-align: right;\">\n",
              "      <th></th>\n",
              "      <th>country</th>\n",
              "    </tr>\n",
              "  </thead>\n",
              "  <tbody>\n",
              "    <tr>\n",
              "      <th>75</th>\n",
              "      <td>India</td>\n",
              "    </tr>\n",
              "  </tbody>\n",
              "</table>\n",
              "</div><br><label><b>dtype:</b> object</label>"
            ]
          },
          "metadata": {},
          "execution_count": 7
        }
      ]
    },
    {
      "cell_type": "code",
      "source": [
        "#what is the capital of the country with highest population\n",
        "df[df[\"population\"] == df[\"population\"].max()][\"capital_city\"]"
      ],
      "metadata": {
        "colab": {
          "base_uri": "https://localhost:8080/",
          "height": 115
        },
        "id": "GHDnirxH6DfH",
        "outputId": "d8fc489a-c218-4b06-e752-4f4095d27341"
      },
      "execution_count": 8,
      "outputs": [
        {
          "output_type": "execute_result",
          "data": {
            "text/plain": [
              "75    New Delhi\n",
              "Name: capital_city, dtype: object"
            ],
            "text/html": [
              "<div>\n",
              "<style scoped>\n",
              "    .dataframe tbody tr th:only-of-type {\n",
              "        vertical-align: middle;\n",
              "    }\n",
              "\n",
              "    .dataframe tbody tr th {\n",
              "        vertical-align: top;\n",
              "    }\n",
              "\n",
              "    .dataframe thead th {\n",
              "        text-align: right;\n",
              "    }\n",
              "</style>\n",
              "<table border=\"1\" class=\"dataframe\">\n",
              "  <thead>\n",
              "    <tr style=\"text-align: right;\">\n",
              "      <th></th>\n",
              "      <th>capital_city</th>\n",
              "    </tr>\n",
              "  </thead>\n",
              "  <tbody>\n",
              "    <tr>\n",
              "      <th>75</th>\n",
              "      <td>New Delhi</td>\n",
              "    </tr>\n",
              "  </tbody>\n",
              "</table>\n",
              "</div><br><label><b>dtype:</b> object</label>"
            ]
          },
          "metadata": {},
          "execution_count": 8
        }
      ]
    },
    {
      "cell_type": "code",
      "source": [
        "#which country has the least population\n",
        "df[df[\"population\"] == df[\"population\"].min()]['country']"
      ],
      "metadata": {
        "colab": {
          "base_uri": "https://localhost:8080/",
          "height": 115
        },
        "id": "x7fkQlVP6GWW",
        "outputId": "4346cf00-ff4a-4e89-e964-c47e74740013"
      },
      "execution_count": 9,
      "outputs": [
        {
          "output_type": "execute_result",
          "data": {
            "text/plain": [
              "179    Tuvalu\n",
              "Name: country, dtype: object"
            ],
            "text/html": [
              "<div>\n",
              "<style scoped>\n",
              "    .dataframe tbody tr th:only-of-type {\n",
              "        vertical-align: middle;\n",
              "    }\n",
              "\n",
              "    .dataframe tbody tr th {\n",
              "        vertical-align: top;\n",
              "    }\n",
              "\n",
              "    .dataframe thead th {\n",
              "        text-align: right;\n",
              "    }\n",
              "</style>\n",
              "<table border=\"1\" class=\"dataframe\">\n",
              "  <thead>\n",
              "    <tr style=\"text-align: right;\">\n",
              "      <th></th>\n",
              "      <th>country</th>\n",
              "    </tr>\n",
              "  </thead>\n",
              "  <tbody>\n",
              "    <tr>\n",
              "      <th>179</th>\n",
              "      <td>Tuvalu</td>\n",
              "    </tr>\n",
              "  </tbody>\n",
              "</table>\n",
              "</div><br><label><b>dtype:</b> object</label>"
            ]
          },
          "metadata": {},
          "execution_count": 9
        }
      ]
    },
    {
      "cell_type": "code",
      "source": [
        "#what is the capital of the country with least population\n",
        "df[df[\"population\"] == df[\"population\"].min()]['capital_city']"
      ],
      "metadata": {
        "colab": {
          "base_uri": "https://localhost:8080/",
          "height": 115
        },
        "id": "Ylo7TBHX6JC6",
        "outputId": "de62bec7-95ae-400f-a407-8d52ecce152d"
      },
      "execution_count": 10,
      "outputs": [
        {
          "output_type": "execute_result",
          "data": {
            "text/plain": [
              "179    Funafuti\n",
              "Name: capital_city, dtype: object"
            ],
            "text/html": [
              "<div>\n",
              "<style scoped>\n",
              "    .dataframe tbody tr th:only-of-type {\n",
              "        vertical-align: middle;\n",
              "    }\n",
              "\n",
              "    .dataframe tbody tr th {\n",
              "        vertical-align: top;\n",
              "    }\n",
              "\n",
              "    .dataframe thead th {\n",
              "        text-align: right;\n",
              "    }\n",
              "</style>\n",
              "<table border=\"1\" class=\"dataframe\">\n",
              "  <thead>\n",
              "    <tr style=\"text-align: right;\">\n",
              "      <th></th>\n",
              "      <th>capital_city</th>\n",
              "    </tr>\n",
              "  </thead>\n",
              "  <tbody>\n",
              "    <tr>\n",
              "      <th>179</th>\n",
              "      <td>Funafuti</td>\n",
              "    </tr>\n",
              "  </tbody>\n",
              "</table>\n",
              "</div><br><label><b>dtype:</b> object</label>"
            ]
          },
          "metadata": {},
          "execution_count": 10
        }
      ]
    },
    {
      "cell_type": "code",
      "source": [
        "#give me top 5 countries with highest democratic score\n",
        "df.sort_values(by = 'democracy_score',ascending=False,inplace = True)\n",
        "df['country'].head()"
      ],
      "metadata": {
        "colab": {
          "base_uri": "https://localhost:8080/",
          "height": 241
        },
        "id": "4t2alQHw7IRD",
        "outputId": "dd80b3cd-22cf-42c8-b73a-7ca828da612e"
      },
      "execution_count": 11,
      "outputs": [
        {
          "output_type": "execute_result",
          "data": {
            "text/plain": [
              "127         Norway\n",
              "74         Iceland\n",
              "164         Sweden\n",
              "122    New Zealand\n",
              "46         Denmark\n",
              "Name: country, dtype: object"
            ],
            "text/html": [
              "<div>\n",
              "<style scoped>\n",
              "    .dataframe tbody tr th:only-of-type {\n",
              "        vertical-align: middle;\n",
              "    }\n",
              "\n",
              "    .dataframe tbody tr th {\n",
              "        vertical-align: top;\n",
              "    }\n",
              "\n",
              "    .dataframe thead th {\n",
              "        text-align: right;\n",
              "    }\n",
              "</style>\n",
              "<table border=\"1\" class=\"dataframe\">\n",
              "  <thead>\n",
              "    <tr style=\"text-align: right;\">\n",
              "      <th></th>\n",
              "      <th>country</th>\n",
              "    </tr>\n",
              "  </thead>\n",
              "  <tbody>\n",
              "    <tr>\n",
              "      <th>127</th>\n",
              "      <td>Norway</td>\n",
              "    </tr>\n",
              "    <tr>\n",
              "      <th>74</th>\n",
              "      <td>Iceland</td>\n",
              "    </tr>\n",
              "    <tr>\n",
              "      <th>164</th>\n",
              "      <td>Sweden</td>\n",
              "    </tr>\n",
              "    <tr>\n",
              "      <th>122</th>\n",
              "      <td>New Zealand</td>\n",
              "    </tr>\n",
              "    <tr>\n",
              "      <th>46</th>\n",
              "      <td>Denmark</td>\n",
              "    </tr>\n",
              "  </tbody>\n",
              "</table>\n",
              "</div><br><label><b>dtype:</b> object</label>"
            ]
          },
          "metadata": {},
          "execution_count": 11
        }
      ]
    },
    {
      "cell_type": "code",
      "source": [
        "#how many total regions are there\n",
        "df['region'].unique().size"
      ],
      "metadata": {
        "colab": {
          "base_uri": "https://localhost:8080/"
        },
        "id": "T8_WNf3G70dP",
        "outputId": "7d1db02a-62c9-4384-d192-c1ec522bb149"
      },
      "execution_count": 12,
      "outputs": [
        {
          "output_type": "execute_result",
          "data": {
            "text/plain": [
              "22"
            ]
          },
          "metadata": {},
          "execution_count": 12
        }
      ]
    },
    {
      "cell_type": "code",
      "source": [
        "#how many countries lie in Eastern Europe region\n",
        "df[df['region'] == 'Eastern Europe']['country'].size"
      ],
      "metadata": {
        "colab": {
          "base_uri": "https://localhost:8080/"
        },
        "id": "rxWyAZQS71jU",
        "outputId": "2b40ccf9-d27c-4dd4-a6f5-31014cf799ed"
      },
      "execution_count": 13,
      "outputs": [
        {
          "output_type": "execute_result",
          "data": {
            "text/plain": [
              "10"
            ]
          },
          "metadata": {},
          "execution_count": 13
        }
      ]
    },
    {
      "cell_type": "code",
      "source": [
        "#who is the political leader of the 2nd highest populated country\n",
        "df.sort_values(by=\"population\", ascending=False).iloc[1][\"political_leader\"]"
      ],
      "metadata": {
        "colab": {
          "base_uri": "https://localhost:8080/",
          "height": 35
        },
        "id": "-Cc18_CN73zb",
        "outputId": "ff22ed5a-7886-482b-d74d-ee728e53fff1"
      },
      "execution_count": 14,
      "outputs": [
        {
          "output_type": "execute_result",
          "data": {
            "text/plain": [
              "'Xi Jinping'"
            ],
            "application/vnd.google.colaboratory.intrinsic+json": {
              "type": "string"
            }
          },
          "metadata": {},
          "execution_count": 14
        }
      ]
    },
    {
      "cell_type": "code",
      "source": [
        "# how many countries are there whoes political leaders are unknown\n",
        "df.fillna(0)\n",
        "df[df['political_leader'].isna()]['country'].size"
      ],
      "metadata": {
        "colab": {
          "base_uri": "https://localhost:8080/"
        },
        "id": "4PlWqY7f9Ixa",
        "outputId": "3fa962da-6beb-4123-d708-0612860ea556"
      },
      "execution_count": 15,
      "outputs": [
        {
          "output_type": "execute_result",
          "data": {
            "text/plain": [
              "7"
            ]
          },
          "metadata": {},
          "execution_count": 15
        }
      ]
    },
    {
      "cell_type": "code",
      "source": [
        "#how many country have Republic in their full name\n",
        "count = 0\n",
        "def counting(txt):\n",
        "    global count\n",
        "    if 'republic' in txt.lower():\n",
        "        count+= 1\n",
        "    return txt\n",
        "df['country_long'] = df['country_long'].apply(counting)\n",
        "print(count)\n"
      ],
      "metadata": {
        "colab": {
          "base_uri": "https://localhost:8080/"
        },
        "id": "hLMCcs_v-BoX",
        "outputId": "f2e1b0e1-ea93-4f16-c30b-e72e2dc4bb2b"
      },
      "execution_count": 16,
      "outputs": [
        {
          "output_type": "stream",
          "name": "stdout",
          "text": [
            "125\n"
          ]
        }
      ]
    },
    {
      "cell_type": "code",
      "source": [
        "#which country in african region has highest population\n",
        "africa_df = df[df['continent'] == 'Africa']\n",
        "africa_df[africa_df['population'] == africa_df['population'].max()]['country']"
      ],
      "metadata": {
        "colab": {
          "base_uri": "https://localhost:8080/",
          "height": 115
        },
        "id": "ALWLF3Az-D5U",
        "outputId": "5a09a035-8be5-4a2f-ec17-2635909cd06f"
      },
      "execution_count": 17,
      "outputs": [
        {
          "output_type": "execute_result",
          "data": {
            "text/plain": [
              "125    Nigeria\n",
              "Name: country, dtype: object"
            ],
            "text/html": [
              "<div>\n",
              "<style scoped>\n",
              "    .dataframe tbody tr th:only-of-type {\n",
              "        vertical-align: middle;\n",
              "    }\n",
              "\n",
              "    .dataframe tbody tr th {\n",
              "        vertical-align: top;\n",
              "    }\n",
              "\n",
              "    .dataframe thead th {\n",
              "        text-align: right;\n",
              "    }\n",
              "</style>\n",
              "<table border=\"1\" class=\"dataframe\">\n",
              "  <thead>\n",
              "    <tr style=\"text-align: right;\">\n",
              "      <th></th>\n",
              "      <th>country</th>\n",
              "    </tr>\n",
              "  </thead>\n",
              "  <tbody>\n",
              "    <tr>\n",
              "      <th>125</th>\n",
              "      <td>Nigeria</td>\n",
              "    </tr>\n",
              "  </tbody>\n",
              "</table>\n",
              "</div><br><label><b>dtype:</b> object</label>"
            ]
          },
          "metadata": {},
          "execution_count": 17
        }
      ]
    },
    {
      "cell_type": "code",
      "source": [],
      "metadata": {
        "id": "r5awediw-maM"
      },
      "execution_count": 17,
      "outputs": []
    }
  ]
}